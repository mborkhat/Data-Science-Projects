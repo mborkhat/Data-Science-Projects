{
  "nbformat": 4,
  "nbformat_minor": 0,
  "metadata": {
    "colab": {
      "name": "Cross Sell Prediction.ipynb",
      "provenance": []
    },
    "kernelspec": {
      "name": "python3",
      "display_name": "Python 3"
    }
  },
  "cells": [
    {
      "cell_type": "code",
      "metadata": {
        "id": "foHOnwKjCW9P"
      },
      "source": [
        "import pandas as pd\n",
        "import numpy as np\n",
        "import matplotlib.pyplot as plt\n",
        "%matplotlib inline"
      ],
      "execution_count": null,
      "outputs": []
    },
    {
      "cell_type": "code",
      "metadata": {
        "id": "jP8zbrnGCu8o"
      },
      "source": [
        "train = pd.read_csv('/content/train.csv')\n",
        "test = pd.read_csv('/content/test.csv')"
      ],
      "execution_count": null,
      "outputs": []
    },
    {
      "cell_type": "code",
      "metadata": {
        "id": "SNlw4vkSC-kf",
        "outputId": "ac60af8f-fc69-4baa-9873-3ee21ca3d3d9",
        "colab": {
          "base_uri": "https://localhost:8080/",
          "height": 224
        }
      },
      "source": [
        "train.head()"
      ],
      "execution_count": null,
      "outputs": [
        {
          "output_type": "execute_result",
          "data": {
            "text/html": [
              "<div>\n",
              "<style scoped>\n",
              "    .dataframe tbody tr th:only-of-type {\n",
              "        vertical-align: middle;\n",
              "    }\n",
              "\n",
              "    .dataframe tbody tr th {\n",
              "        vertical-align: top;\n",
              "    }\n",
              "\n",
              "    .dataframe thead th {\n",
              "        text-align: right;\n",
              "    }\n",
              "</style>\n",
              "<table border=\"1\" class=\"dataframe\">\n",
              "  <thead>\n",
              "    <tr style=\"text-align: right;\">\n",
              "      <th></th>\n",
              "      <th>id</th>\n",
              "      <th>Gender</th>\n",
              "      <th>Age</th>\n",
              "      <th>Driving_License</th>\n",
              "      <th>Region_Code</th>\n",
              "      <th>Previously_Insured</th>\n",
              "      <th>Vehicle_Age</th>\n",
              "      <th>Vehicle_Damage</th>\n",
              "      <th>Annual_Premium</th>\n",
              "      <th>Policy_Sales_Channel</th>\n",
              "      <th>Vintage</th>\n",
              "      <th>Response</th>\n",
              "    </tr>\n",
              "  </thead>\n",
              "  <tbody>\n",
              "    <tr>\n",
              "      <th>0</th>\n",
              "      <td>1</td>\n",
              "      <td>Male</td>\n",
              "      <td>44</td>\n",
              "      <td>1</td>\n",
              "      <td>28.0</td>\n",
              "      <td>0</td>\n",
              "      <td>&gt; 2 Years</td>\n",
              "      <td>Yes</td>\n",
              "      <td>40454.0</td>\n",
              "      <td>26.0</td>\n",
              "      <td>217</td>\n",
              "      <td>1</td>\n",
              "    </tr>\n",
              "    <tr>\n",
              "      <th>1</th>\n",
              "      <td>2</td>\n",
              "      <td>Male</td>\n",
              "      <td>76</td>\n",
              "      <td>1</td>\n",
              "      <td>3.0</td>\n",
              "      <td>0</td>\n",
              "      <td>1-2 Year</td>\n",
              "      <td>No</td>\n",
              "      <td>33536.0</td>\n",
              "      <td>26.0</td>\n",
              "      <td>183</td>\n",
              "      <td>0</td>\n",
              "    </tr>\n",
              "    <tr>\n",
              "      <th>2</th>\n",
              "      <td>3</td>\n",
              "      <td>Male</td>\n",
              "      <td>47</td>\n",
              "      <td>1</td>\n",
              "      <td>28.0</td>\n",
              "      <td>0</td>\n",
              "      <td>&gt; 2 Years</td>\n",
              "      <td>Yes</td>\n",
              "      <td>38294.0</td>\n",
              "      <td>26.0</td>\n",
              "      <td>27</td>\n",
              "      <td>1</td>\n",
              "    </tr>\n",
              "    <tr>\n",
              "      <th>3</th>\n",
              "      <td>4</td>\n",
              "      <td>Male</td>\n",
              "      <td>21</td>\n",
              "      <td>1</td>\n",
              "      <td>11.0</td>\n",
              "      <td>1</td>\n",
              "      <td>&lt; 1 Year</td>\n",
              "      <td>No</td>\n",
              "      <td>28619.0</td>\n",
              "      <td>152.0</td>\n",
              "      <td>203</td>\n",
              "      <td>0</td>\n",
              "    </tr>\n",
              "    <tr>\n",
              "      <th>4</th>\n",
              "      <td>5</td>\n",
              "      <td>Female</td>\n",
              "      <td>29</td>\n",
              "      <td>1</td>\n",
              "      <td>41.0</td>\n",
              "      <td>1</td>\n",
              "      <td>&lt; 1 Year</td>\n",
              "      <td>No</td>\n",
              "      <td>27496.0</td>\n",
              "      <td>152.0</td>\n",
              "      <td>39</td>\n",
              "      <td>0</td>\n",
              "    </tr>\n",
              "  </tbody>\n",
              "</table>\n",
              "</div>"
            ],
            "text/plain": [
              "   id  Gender  Age  ...  Policy_Sales_Channel  Vintage  Response\n",
              "0   1    Male   44  ...                  26.0      217         1\n",
              "1   2    Male   76  ...                  26.0      183         0\n",
              "2   3    Male   47  ...                  26.0       27         1\n",
              "3   4    Male   21  ...                 152.0      203         0\n",
              "4   5  Female   29  ...                 152.0       39         0\n",
              "\n",
              "[5 rows x 12 columns]"
            ]
          },
          "metadata": {
            "tags": []
          },
          "execution_count": 72
        }
      ]
    },
    {
      "cell_type": "code",
      "metadata": {
        "id": "k5llyM1mR72D",
        "outputId": "fc3f4c71-2c90-4be5-c47a-331e5a2b2dcd",
        "colab": {
          "base_uri": "https://localhost:8080/",
          "height": 282
        }
      },
      "source": [
        "train.Response.value_counts().plot(kind='bar')"
      ],
      "execution_count": null,
      "outputs": [
        {
          "output_type": "execute_result",
          "data": {
            "text/plain": [
              "<matplotlib.axes._subplots.AxesSubplot at 0x7f8410033e10>"
            ]
          },
          "metadata": {
            "tags": []
          },
          "execution_count": 73
        },
        {
          "output_type": "display_data",
          "data": {
            "image/png": "[encoded data removed]",
            "text/plain": [
              "<Figure size 432x288 with 1 Axes>"
            ]
          },
          "metadata": {
            "tags": [],
            "needs_background": "light"
          }
        }
      ]
    },
    {
      "cell_type": "code",
      "metadata": {
        "id": "2eHKXnj1C_7i",
        "outputId": "10b4efd1-78ed-457d-cff3-2dbebc142cd1",
        "colab": {
          "base_uri": "https://localhost:8080/",
          "height": 34
        }
      },
      "source": [
        "train.shape, test.shape"
      ],
      "execution_count": null,
      "outputs": [
        {
          "output_type": "execute_result",
          "data": {
            "text/plain": [
              "((381109, 12), (127037, 11))"
            ]
          },
          "metadata": {
            "tags": []
          },
          "execution_count": 74
        }
      ]
    },
    {
      "cell_type": "code",
      "metadata": {
        "id": "CHDWEp8aDCuC",
        "outputId": "27666d30-bfb3-4c15-b507-b1993d36aebb",
        "colab": {
          "base_uri": "https://localhost:8080/",
          "height": 34
        }
      },
      "source": [
        "combine = train.append(test)\n",
        "combine.shape"
      ],
      "execution_count": null,
      "outputs": [
        {
          "output_type": "execute_result",
          "data": {
            "text/plain": [
              "(508146, 12)"
            ]
          },
          "metadata": {
            "tags": []
          },
          "execution_count": 75
        }
      ]
    },
    {
      "cell_type": "code",
      "metadata": {
        "id": "bpw2abddogLh"
      },
      "source": [
        "keys=combine['Region_Code'].value_counts().keys()\n",
        "values=combine['Region_Code'].value_counts().values\n",
        "dict={}\n",
        "for i in range(len(keys)):\n",
        "  dict[keys[i]]=values[i]\n",
        "combine['Region_Code']=combine['Region_Code'].map(dict)"
      ],
      "execution_count": null,
      "outputs": []
    },
    {
      "cell_type": "code",
      "metadata": {
        "id": "lIY6HNDcESoA"
      },
      "source": [
        "gender_map={'Male':1,'Female':0}\n",
        "vehicleage_map={'> 2 Years':3, '1-2 Year':1, '< 1 Year':0}\n",
        "vehicledamage_map={'No':0, 'Yes':1}\n",
        "combine['Gender']=combine['Gender'].map(gender_map)\n",
        "combine['Vehicle_Age']=combine['Vehicle_Age'].map(vehicleage_map)\n",
        "combine['Vehicle_Damage']=combine['Vehicle_Damage'].map(vehicledamage_map)"
      ],
      "execution_count": null,
      "outputs": []
    },
    {
      "cell_type": "code",
      "metadata": {
        "id": "L12MIvt19t1H",
        "outputId": "9b49f468-e8ff-4fb4-d56e-fb863387bc23",
        "colab": {
          "base_uri": "https://localhost:8080/",
          "height": 224
        }
      },
      "source": [
        "combine.head()"
      ],
      "execution_count": null,
      "outputs": [
        {
          "output_type": "execute_result",
          "data": {
            "text/html": [
              "<div>\n",
              "<style scoped>\n",
              "    .dataframe tbody tr th:only-of-type {\n",
              "        vertical-align: middle;\n",
              "    }\n",
              "\n",
              "    .dataframe tbody tr th {\n",
              "        vertical-align: top;\n",
              "    }\n",
              "\n",
              "    .dataframe thead th {\n",
              "        text-align: right;\n",
              "    }\n",
              "</style>\n",
              "<table border=\"1\" class=\"dataframe\">\n",
              "  <thead>\n",
              "    <tr style=\"text-align: right;\">\n",
              "      <th></th>\n",
              "      <th>id</th>\n",
              "      <th>Gender</th>\n",
              "      <th>Age</th>\n",
              "      <th>Driving_License</th>\n",
              "      <th>Region_Code</th>\n",
              "      <th>Previously_Insured</th>\n",
              "      <th>Vehicle_Age</th>\n",
              "      <th>Vehicle_Damage</th>\n",
              "      <th>Annual_Premium</th>\n",
              "      <th>Policy_Sales_Channel</th>\n",
              "      <th>Vintage</th>\n",
              "      <th>Response</th>\n",
              "      <th>AgeGroup</th>\n",
              "    </tr>\n",
              "  </thead>\n",
              "  <tbody>\n",
              "    <tr>\n",
              "      <th>0</th>\n",
              "      <td>1</td>\n",
              "      <td>1</td>\n",
              "      <td>44</td>\n",
              "      <td>1</td>\n",
              "      <td>141937</td>\n",
              "      <td>0</td>\n",
              "      <td>3</td>\n",
              "      <td>1</td>\n",
              "      <td>40454.0</td>\n",
              "      <td>26</td>\n",
              "      <td>217</td>\n",
              "      <td>1.0</td>\n",
              "      <td>1</td>\n",
              "    </tr>\n",
              "    <tr>\n",
              "      <th>1</th>\n",
              "      <td>2</td>\n",
              "      <td>1</td>\n",
              "      <td>76</td>\n",
              "      <td>1</td>\n",
              "      <td>12349</td>\n",
              "      <td>0</td>\n",
              "      <td>1</td>\n",
              "      <td>0</td>\n",
              "      <td>33536.0</td>\n",
              "      <td>26</td>\n",
              "      <td>183</td>\n",
              "      <td>0.0</td>\n",
              "      <td>1</td>\n",
              "    </tr>\n",
              "    <tr>\n",
              "      <th>2</th>\n",
              "      <td>3</td>\n",
              "      <td>1</td>\n",
              "      <td>47</td>\n",
              "      <td>1</td>\n",
              "      <td>141937</td>\n",
              "      <td>0</td>\n",
              "      <td>3</td>\n",
              "      <td>1</td>\n",
              "      <td>38294.0</td>\n",
              "      <td>26</td>\n",
              "      <td>27</td>\n",
              "      <td>1.0</td>\n",
              "      <td>1</td>\n",
              "    </tr>\n",
              "    <tr>\n",
              "      <th>3</th>\n",
              "      <td>4</td>\n",
              "      <td>1</td>\n",
              "      <td>21</td>\n",
              "      <td>1</td>\n",
              "      <td>12328</td>\n",
              "      <td>1</td>\n",
              "      <td>0</td>\n",
              "      <td>0</td>\n",
              "      <td>28619.0</td>\n",
              "      <td>152</td>\n",
              "      <td>203</td>\n",
              "      <td>0.0</td>\n",
              "      <td>0</td>\n",
              "    </tr>\n",
              "    <tr>\n",
              "      <th>4</th>\n",
              "      <td>5</td>\n",
              "      <td>0</td>\n",
              "      <td>29</td>\n",
              "      <td>1</td>\n",
              "      <td>24400</td>\n",
              "      <td>1</td>\n",
              "      <td>0</td>\n",
              "      <td>0</td>\n",
              "      <td>27496.0</td>\n",
              "      <td>152</td>\n",
              "      <td>39</td>\n",
              "      <td>0.0</td>\n",
              "      <td>0</td>\n",
              "    </tr>\n",
              "  </tbody>\n",
              "</table>\n",
              "</div>"
            ],
            "text/plain": [
              "   id  Gender  Age  ...  Vintage  Response  AgeGroup\n",
              "0   1       1   44  ...      217       1.0         1\n",
              "1   2       1   76  ...      183       0.0         1\n",
              "2   3       1   47  ...       27       1.0         1\n",
              "3   4       1   21  ...      203       0.0         0\n",
              "4   5       0   29  ...       39       0.0         0\n",
              "\n",
              "[5 rows x 13 columns]"
            ]
          },
          "metadata": {
            "tags": []
          },
          "execution_count": 130
        }
      ]
    },
    {
      "cell_type": "code",
      "metadata": {
        "id": "0C7p8bVV-XL2"
      },
      "source": [
        "(combine['Policy_Sales_Channel']=combine['Policy_Sales_Channel'].astype(int)\n",
        "combine['Region_Code']=combine['Region_Code'].astype(int)"
      ],
      "execution_count": null,
      "outputs": []
    },
    {
      "cell_type": "code",
      "metadata": {
        "id": "Gel4NWdF9xNA"
      },
      "source": [
        "from sklearn.preprocessing import MinMaxScaler\n",
        "mms=MinMaxScaler()\n",
        "combine['Annual_Premium']=mms.fit_transform(np.array(combine['Annual_Premium']).reshape(-1,1))"
      ],
      "execution_count": null,
      "outputs": []
    },
    {
      "cell_type": "code",
      "metadata": {
        "id": "1U5RtE0T-lFW",
        "outputId": "637ce863-2e6d-4fc0-f3a6-0b1bbd3aa724",
        "colab": {
          "base_uri": "https://localhost:8080/",
          "height": 224
        }
      },
      "source": [
        "combine.head()"
      ],
      "execution_count": null,
      "outputs": [
        {
          "output_type": "execute_result",
          "data": {
            "text/html": [
              "<div>\n",
              "<style scoped>\n",
              "    .dataframe tbody tr th:only-of-type {\n",
              "        vertical-align: middle;\n",
              "    }\n",
              "\n",
              "    .dataframe tbody tr th {\n",
              "        vertical-align: top;\n",
              "    }\n",
              "\n",
              "    .dataframe thead th {\n",
              "        text-align: right;\n",
              "    }\n",
              "</style>\n",
              "<table border=\"1\" class=\"dataframe\">\n",
              "  <thead>\n",
              "    <tr style=\"text-align: right;\">\n",
              "      <th></th>\n",
              "      <th>id</th>\n",
              "      <th>Gender</th>\n",
              "      <th>Age</th>\n",
              "      <th>Driving_License</th>\n",
              "      <th>Region_Code</th>\n",
              "      <th>Previously_Insured</th>\n",
              "      <th>Vehicle_Age</th>\n",
              "      <th>Vehicle_Damage</th>\n",
              "      <th>Annual_Premium</th>\n",
              "      <th>Policy_Sales_Channel</th>\n",
              "      <th>Vintage</th>\n",
              "      <th>Response</th>\n",
              "      <th>AgeGroup</th>\n",
              "    </tr>\n",
              "  </thead>\n",
              "  <tbody>\n",
              "    <tr>\n",
              "      <th>0</th>\n",
              "      <td>1</td>\n",
              "      <td>1</td>\n",
              "      <td>44</td>\n",
              "      <td>1</td>\n",
              "      <td>28</td>\n",
              "      <td>0</td>\n",
              "      <td>3</td>\n",
              "      <td>1</td>\n",
              "      <td>40454.0</td>\n",
              "      <td>26</td>\n",
              "      <td>217</td>\n",
              "      <td>1.0</td>\n",
              "      <td>adults</td>\n",
              "    </tr>\n",
              "    <tr>\n",
              "      <th>1</th>\n",
              "      <td>2</td>\n",
              "      <td>1</td>\n",
              "      <td>76</td>\n",
              "      <td>1</td>\n",
              "      <td>3</td>\n",
              "      <td>0</td>\n",
              "      <td>1</td>\n",
              "      <td>0</td>\n",
              "      <td>33536.0</td>\n",
              "      <td>26</td>\n",
              "      <td>183</td>\n",
              "      <td>0.0</td>\n",
              "      <td>adults</td>\n",
              "    </tr>\n",
              "    <tr>\n",
              "      <th>2</th>\n",
              "      <td>3</td>\n",
              "      <td>1</td>\n",
              "      <td>47</td>\n",
              "      <td>1</td>\n",
              "      <td>28</td>\n",
              "      <td>0</td>\n",
              "      <td>3</td>\n",
              "      <td>1</td>\n",
              "      <td>38294.0</td>\n",
              "      <td>26</td>\n",
              "      <td>27</td>\n",
              "      <td>1.0</td>\n",
              "      <td>adults</td>\n",
              "    </tr>\n",
              "    <tr>\n",
              "      <th>3</th>\n",
              "      <td>4</td>\n",
              "      <td>1</td>\n",
              "      <td>21</td>\n",
              "      <td>1</td>\n",
              "      <td>11</td>\n",
              "      <td>1</td>\n",
              "      <td>0</td>\n",
              "      <td>0</td>\n",
              "      <td>28619.0</td>\n",
              "      <td>152</td>\n",
              "      <td>203</td>\n",
              "      <td>0.0</td>\n",
              "      <td>teens</td>\n",
              "    </tr>\n",
              "    <tr>\n",
              "      <th>4</th>\n",
              "      <td>5</td>\n",
              "      <td>0</td>\n",
              "      <td>29</td>\n",
              "      <td>1</td>\n",
              "      <td>41</td>\n",
              "      <td>1</td>\n",
              "      <td>0</td>\n",
              "      <td>0</td>\n",
              "      <td>27496.0</td>\n",
              "      <td>152</td>\n",
              "      <td>39</td>\n",
              "      <td>0.0</td>\n",
              "      <td>teens</td>\n",
              "    </tr>\n",
              "  </tbody>\n",
              "</table>\n",
              "</div>"
            ],
            "text/plain": [
              "   id  Gender  Age  ...  Vintage  Response  AgeGroup\n",
              "0   1       1   44  ...      217       1.0    adults\n",
              "1   2       1   76  ...      183       0.0    adults\n",
              "2   3       1   47  ...       27       1.0    adults\n",
              "3   4       1   21  ...      203       0.0     teens\n",
              "4   5       0   29  ...       39       0.0     teens\n",
              "\n",
              "[5 rows x 13 columns]"
            ]
          },
          "metadata": {
            "tags": []
          },
          "execution_count": 107
        }
      ]
    },
    {
      "cell_type": "code",
      "metadata": {
        "id": "Sv0bwE_IsXw6",
        "outputId": "18f3777c-fed6-424e-dd25-047668aaaf7a",
        "colab": {
          "base_uri": "https://localhost:8080/",
          "height": 221
        }
      },
      "source": [
        "combine['Policy_Sales_Channel'].value_counts()"
      ],
      "execution_count": null,
      "outputs": [
        {
          "output_type": "execute_result",
          "data": {
            "text/plain": [
              "152    179523\n",
              "26     106594\n",
              "124     98299\n",
              "160     29090\n",
              "156     14313\n",
              "        ...  \n",
              "149         1\n",
              "84          1\n",
              "141         1\n",
              "41          1\n",
              "142         1\n",
              "Name: Policy_Sales_Channel, Length: 157, dtype: int64"
            ]
          },
          "metadata": {
            "tags": []
          },
          "execution_count": 145
        }
      ]
    },
    {
      "cell_type": "code",
      "metadata": {
        "id": "hjBFjDSaFZPq",
        "outputId": "3a94b5ff-8516-4d2a-acf3-30699360d6db",
        "colab": {
          "base_uri": "https://localhost:8080/",
          "height": 34
        }
      },
      "source": [
        "X = combine[combine['Response'].isnull()!=True].drop(['id','Response','Driving_License'], axis=1)\n",
        "y = combine[combine['Response'].isnull()!=True]['Response']\n",
        "\n",
        "X_test = combine[combine['Response'].isnull()==True].drop(['id','Response','Driving_License'], axis=1)\n",
        "\n",
        "X.shape, y.shape, X_test.shape"
      ],
      "execution_count": null,
      "outputs": [
        {
          "output_type": "execute_result",
          "data": {
            "text/plain": [
              "((381109, 10), (381109,), (127037, 10))"
            ]
          },
          "metadata": {
            "tags": []
          },
          "execution_count": 131
        }
      ]
    },
    {
      "cell_type": "code",
      "metadata": {
        "id": "__ygvRt2--TA",
        "outputId": "54e0f5ce-003e-46f1-d8d3-8ada8286f8fd",
        "colab": {
          "base_uri": "https://localhost:8080/"
        }
      },
      "source": [
        "from imblearn.combine import SMOTETomek\n",
        "# Implementing Oversampling for Handling Imbalanced \n",
        "smk = SMOTETomek(random_state=42,sampling_strategy='minority',ratio=0.3)\n",
        "X_res,y_res=smk.fit_sample(X,y)\n",
        "from collections import Counter\n",
        "print('Original dataset shape {}'.format(Counter(y)))\n",
        "print('Resampled dataset shape {}'.format(Counter(y_res)))"
      ],
      "execution_count": null,
      "outputs": [
        {
          "output_type": "stream",
          "text": [
            "Original dataset shape Counter({0.0: 334399, 1.0: 46710})\n",
            "Resampled dataset shape Counter({0.0: 316992, 1.0: 82912})\n"
          ],
          "name": "stdout"
        }
      ]
    },
    {
      "cell_type": "code",
      "metadata": {
        "id": "tkMa7p7OFznb"
      },
      "source": [
        "from sklearn.model_selection import train_test_split\n",
        "x_train, x_val, y_train, y_val = train_test_split(X_res, y_res, test_size=0.05,random_state=42)"
      ],
      "execution_count": null,
      "outputs": []
    },
    {
      "cell_type": "code",
      "metadata": {
        "id": "yZQKBRZYFr9D",
        "outputId": "7b7e2348-2fcc-4d18-96f8-0ed85d5a3176",
        "colab": {
          "base_uri": "https://localhost:8080/",
          "height": 122
        }
      },
      "source": [
        "from lightgbm import LGBMClassifier\n",
        "model = LGBMClassifier(max_depth=5,\n",
        "                       learning_rate=0.4, \n",
        "                       n_estimators=1000)\n",
        "\n",
        "model.fit(x_train,y_train,\n",
        "          eval_set=[(x_train,y_train),(x_val, y_val)],\n",
        "          eval_metric='auc',\n",
        "          early_stopping_rounds=200,\n",
        "          verbose=200)\n",
        "\n",
        "pred_y = model.predict_proba(x_val)[:,1]\n",
        "from sklearn.metrics import accuracy_score, confusion_matrix, roc_auc_score, roc_curve\n",
        "print(roc_auc_score(y_val, pred_y))"
      ],
      "execution_count": null,
      "outputs": [
        {
          "output_type": "stream",
          "text": [
            "Training until validation scores don't improve for 200 rounds.\n",
            "[200]\ttraining's auc: 0.948901\ttraining's binary_logloss: 0.202873\tvalid_1's auc: 0.941236\tvalid_1's binary_logloss: 0.211747\n",
            "Early stopping, best iteration is:\n",
            "[175]\ttraining's auc: 0.947958\ttraining's binary_logloss: 0.20431\tvalid_1's auc: 0.941509\tvalid_1's binary_logloss: 0.211659\n",
            "0.9415086501091265\n"
          ],
          "name": "stdout"
        }
      ]
    },
    {
      "cell_type": "code",
      "metadata": {
        "id": "1a5gxp6YSAb6",
        "outputId": "ea7dae93-aa76-496d-bc38-cf3f9a0f5877",
        "colab": {
          "base_uri": "https://localhost:8080/",
          "height": 312
        }
      },
      "source": [
        "import lightgbm\n",
        "lightgbm.plot_importance(model)"
      ],
      "execution_count": null,
      "outputs": [
        {
          "output_type": "execute_result",
          "data": {
            "text/plain": [
              "<matplotlib.axes._subplots.AxesSubplot at 0x7f8408ce1908>"
            ]
          },
          "metadata": {
            "tags": []
          },
          "execution_count": 142
        },
        {
          "output_type": "display_data",
          "data": {
            "image/png": "[encoded data removed]",
            "text/plain": [
              "<Figure size 432x288 with 1 Axes>"
            ]
          },
          "metadata": {
            "tags": [],
            "needs_background": "light"
          }
        }
      ]
    },
    {
      "cell_type": "code",
      "metadata": {
        "id": "b9o6oBq_F8o7",
        "outputId": "4486d42c-afb4-4cf9-9898-62000b9b9d70",
        "colab": {
          "base_uri": "https://localhost:8080/",
          "height": 547
        }
      },
      "source": [
        "err = []\n",
        "y_pred_tot_lgm = []\n",
        "\n",
        "from sklearn.model_selection import StratifiedKFold\n",
        "\n",
        "fold = StratifiedKFold(n_splits=5)\n",
        "i = 1\n",
        "for train_index, test_index in fold.split(X, y):\n",
        "    x_train, x_val = X.iloc[train_index], X.iloc[test_index]\n",
        "    y_train, y_val = y[train_index], y[test_index]\n",
        "    m = LGBMClassifier(boosting_type='gbdt',\n",
        "                       max_depth=5,\n",
        "                       learning_rate=0.06,\n",
        "                       n_estimators=1000,\n",
        "                       min_child_weight=0.01,\n",
        "                       colsample_bytree=0.5,\n",
        "                       random_state=1994)\n",
        "    m.fit(x_train, y_train,\n",
        "          eval_set=[(x_train,y_train),(x_val, y_val)],\n",
        "          early_stopping_rounds=200,\n",
        "          eval_metric='auc',\n",
        "          verbose=200)\n",
        "    pred_y = m.predict_proba(x_val)[:,1]\n",
        "    print(\"err_lgm: \",roc_auc_score(y_val,pred_y))\n",
        "    err.append(roc_auc_score(y_val, pred_y))\n",
        "    pred_test = m.predict_proba(X_test)[:,1]\n",
        "    i = i + 1\n",
        "    y_pred_tot_lgm.append(pred_test)"
      ],
      "execution_count": null,
      "outputs": [
        {
          "output_type": "stream",
          "text": [
            "Training until validation scores don't improve for 200 rounds.\n",
            "[200]\ttraining's auc: 0.862348\ttraining's binary_logloss: 0.261819\tvalid_1's auc: 0.85886\tvalid_1's binary_logloss: 0.264279\n",
            "[400]\ttraining's auc: 0.867381\ttraining's binary_logloss: 0.258739\tvalid_1's auc: 0.859186\tvalid_1's binary_logloss: 0.264096\n",
            "Early stopping, best iteration is:\n",
            "[327]\ttraining's auc: 0.865652\ttraining's binary_logloss: 0.259721\tvalid_1's auc: 0.859246\tvalid_1's binary_logloss: 0.26404\n",
            "err_lgm:  0.8592456115382606\n",
            "Training until validation scores don't improve for 200 rounds.\n",
            "[200]\ttraining's auc: 0.862381\ttraining's binary_logloss: 0.261933\tvalid_1's auc: 0.858943\tvalid_1's binary_logloss: 0.263817\n",
            "[400]\ttraining's auc: 0.867114\ttraining's binary_logloss: 0.25909\tvalid_1's auc: 0.859294\tvalid_1's binary_logloss: 0.263542\n",
            "Early stopping, best iteration is:\n",
            "[328]\ttraining's auc: 0.865483\ttraining's binary_logloss: 0.260011\tvalid_1's auc: 0.859328\tvalid_1's binary_logloss: 0.263542\n",
            "err_lgm:  0.8593283325407508\n",
            "Training until validation scores don't improve for 200 rounds.\n",
            "[200]\ttraining's auc: 0.862825\ttraining's binary_logloss: 0.261551\tvalid_1's auc: 0.857353\tvalid_1's binary_logloss: 0.265117\n",
            "[400]\ttraining's auc: 0.867616\ttraining's binary_logloss: 0.258629\tvalid_1's auc: 0.857428\tvalid_1's binary_logloss: 0.264952\n",
            "Early stopping, best iteration is:\n",
            "[261]\ttraining's auc: 0.864288\ttraining's binary_logloss: 0.260581\tvalid_1's auc: 0.857507\tvalid_1's binary_logloss: 0.264954\n",
            "err_lgm:  0.857506620273058\n",
            "Training until validation scores don't improve for 200 rounds.\n",
            "[200]\ttraining's auc: 0.862827\ttraining's binary_logloss: 0.261575\tvalid_1's auc: 0.858085\tvalid_1's binary_logloss: 0.264749\n",
            "[400]\ttraining's auc: 0.868041\ttraining's binary_logloss: 0.258477\tvalid_1's auc: 0.857899\tvalid_1's binary_logloss: 0.264748\n",
            "Early stopping, best iteration is:\n",
            "[237]\ttraining's auc: 0.863759\ttraining's binary_logloss: 0.260936\tvalid_1's auc: 0.858163\tvalid_1's binary_logloss: 0.264686\n",
            "err_lgm:  0.858163349023651\n",
            "Training until validation scores don't improve for 200 rounds.\n",
            "[200]\ttraining's auc: 0.86286\ttraining's binary_logloss: 0.261638\tvalid_1's auc: 0.856529\tvalid_1's binary_logloss: 0.265034\n",
            "[400]\ttraining's auc: 0.867648\ttraining's binary_logloss: 0.25873\tvalid_1's auc: 0.856951\tvalid_1's binary_logloss: 0.264797\n",
            "Early stopping, best iteration is:\n",
            "[357]\ttraining's auc: 0.866643\ttraining's binary_logloss: 0.259313\tvalid_1's auc: 0.857028\tvalid_1's binary_logloss: 0.264742\n",
            "err_lgm:  0.8570283384094748\n"
          ],
          "name": "stdout"
        }
      ]
    },
    {
      "cell_type": "code",
      "metadata": {
        "id": "3f4k179YGDpj",
        "outputId": "c4209ba2-fdc7-4084-de8c-272aafdfba14",
        "colab": {
          "base_uri": "https://localhost:8080/",
          "height": 34
        }
      },
      "source": [
        "np.mean(err,0)"
      ],
      "execution_count": null,
      "outputs": [
        {
          "output_type": "execute_result",
          "data": {
            "text/plain": [
              "0.8582544503570391"
            ]
          },
          "metadata": {
            "tags": []
          },
          "execution_count": 119
        }
      ]
    },
    {
      "cell_type": "code",
      "metadata": {
        "id": "mKSQ5BLdGa7M",
        "outputId": "cff4a493-8858-41c5-c02e-de1ce1907509",
        "colab": {
          "base_uri": "https://localhost:8080/",
          "height": 630
        }
      },
      "source": [
        "from xgboost import XGBClassifier\n",
        "\n",
        "errxgb = []\n",
        "y_pred_tot_xgb = []\n",
        "\n",
        "from sklearn.model_selection import KFold,StratifiedKFold\n",
        "\n",
        "fold = StratifiedKFold(n_splits=5)\n",
        "i = 1\n",
        "for train_index, test_index in fold.split(X_res,y_res):\n",
        "    x_train, x_val = X_res[train_index], X_res[test_index]\n",
        "    y_train, y_val = y_res[train_index], y_res[test_index]\n",
        "    m = XGBClassifier(boosting_type='gbdt',\n",
        "                      max_depth=5,\n",
        "                      learning_rate=0.07,\n",
        "                      n_estimators=5000,\n",
        "                      random_state=1994)\n",
        "    m.fit(x_train, y_train,\n",
        "          eval_set=[(x_train,y_train),(x_val, y_val)],\n",
        "          early_stopping_rounds=200,\n",
        "          eval_metric='auc',\n",
        "          verbose=200)\n",
        "    pred_y = m.predict_proba(x_val)[:,1]\n",
        "    print(\"err_xgb: \",roc_auc_score(y_val,pred_y))\n",
        "    errxgb.append(roc_auc_score(y_val, pred_y))\n",
        "    pred_test = m.predict_proba(X_test)[:,1]\n",
        "    i = i + 1\n",
        "    y_pred_tot_xgb.append(pred_test)"
      ],
      "execution_count": null,
      "outputs": [
        {
          "output_type": "stream",
          "text": [
            "[0]\tvalidation_0-auc:0.913248\tvalidation_1-auc:0.818392\n",
            "Multiple eval metrics have been passed: 'validation_1-auc' will be used for early stopping.\n",
            "\n",
            "Will train until validation_1-auc hasn't improved in 200 rounds.\n",
            "[200]\tvalidation_0-auc:0.975514\tvalidation_1-auc:0.851118\n",
            "[400]\tvalidation_0-auc:0.982568\tvalidation_1-auc:0.850425\n",
            "Stopping. Best iteration:\n",
            "[297]\tvalidation_0-auc:0.981499\tvalidation_1-auc:0.851491\n",
            "\n",
            "err_xgb:  0.851490802716327\n"
          ],
          "name": "stdout"
        },
        {
          "output_type": "error",
          "ename": "ValueError",
          "evalue": "ignored",
          "traceback": [
            "\u001b[0;31m---------------------------------------------------------------------------\u001b[0m",
            "\u001b[0;31mValueError\u001b[0m                                Traceback (most recent call last)",
            "\u001b[0;32m<ipython-input-46-9633aa7665a3>\u001b[0m in \u001b[0;36m<module>\u001b[0;34m()\u001b[0m\n\u001b[1;32m     24\u001b[0m     \u001b[0mprint\u001b[0m\u001b[0;34m(\u001b[0m\u001b[0;34m\"err_xgb: \"\u001b[0m\u001b[0;34m,\u001b[0m\u001b[0mroc_auc_score\u001b[0m\u001b[0;34m(\u001b[0m\u001b[0my_val\u001b[0m\u001b[0;34m,\u001b[0m\u001b[0mpred_y\u001b[0m\u001b[0;34m)\u001b[0m\u001b[0;34m)\u001b[0m\u001b[0;34m\u001b[0m\u001b[0;34m\u001b[0m\u001b[0m\n\u001b[1;32m     25\u001b[0m     \u001b[0merrxgb\u001b[0m\u001b[0;34m.\u001b[0m\u001b[0mappend\u001b[0m\u001b[0;34m(\u001b[0m\u001b[0mroc_auc_score\u001b[0m\u001b[0;34m(\u001b[0m\u001b[0my_val\u001b[0m\u001b[0;34m,\u001b[0m \u001b[0mpred_y\u001b[0m\u001b[0;34m)\u001b[0m\u001b[0;34m)\u001b[0m\u001b[0;34m\u001b[0m\u001b[0;34m\u001b[0m\u001b[0m\n\u001b[0;32m---> 26\u001b[0;31m     \u001b[0mpred_test\u001b[0m \u001b[0;34m=\u001b[0m \u001b[0mm\u001b[0m\u001b[0;34m.\u001b[0m\u001b[0mpredict_proba\u001b[0m\u001b[0;34m(\u001b[0m\u001b[0mX_test\u001b[0m\u001b[0;34m)\u001b[0m\u001b[0;34m[\u001b[0m\u001b[0;34m:\u001b[0m\u001b[0;34m,\u001b[0m\u001b[0;36m1\u001b[0m\u001b[0;34m]\u001b[0m\u001b[0;34m\u001b[0m\u001b[0;34m\u001b[0m\u001b[0m\n\u001b[0m\u001b[1;32m     27\u001b[0m     \u001b[0mi\u001b[0m \u001b[0;34m=\u001b[0m \u001b[0mi\u001b[0m \u001b[0;34m+\u001b[0m \u001b[0;36m1\u001b[0m\u001b[0;34m\u001b[0m\u001b[0;34m\u001b[0m\u001b[0m\n\u001b[1;32m     28\u001b[0m     \u001b[0my_pred_tot_xgb\u001b[0m\u001b[0;34m.\u001b[0m\u001b[0mappend\u001b[0m\u001b[0;34m(\u001b[0m\u001b[0mpred_test\u001b[0m\u001b[0;34m)\u001b[0m\u001b[0;34m\u001b[0m\u001b[0;34m\u001b[0m\u001b[0m\n",
            "\u001b[0;32m/usr/local/lib/python3.6/dist-packages/xgboost/sklearn.py\u001b[0m in \u001b[0;36mpredict_proba\u001b[0;34m(self, data, ntree_limit, validate_features)\u001b[0m\n\u001b[1;32m    832\u001b[0m         class_probs = self.get_booster().predict(test_dmatrix,\n\u001b[1;32m    833\u001b[0m                                                  \u001b[0mntree_limit\u001b[0m\u001b[0;34m=\u001b[0m\u001b[0mntree_limit\u001b[0m\u001b[0;34m,\u001b[0m\u001b[0;34m\u001b[0m\u001b[0;34m\u001b[0m\u001b[0m\n\u001b[0;32m--> 834\u001b[0;31m                                                  validate_features=validate_features)\n\u001b[0m\u001b[1;32m    835\u001b[0m         \u001b[0;32mif\u001b[0m \u001b[0mself\u001b[0m\u001b[0;34m.\u001b[0m\u001b[0mobjective\u001b[0m \u001b[0;34m==\u001b[0m \u001b[0;34m\"multi:softprob\"\u001b[0m\u001b[0;34m:\u001b[0m\u001b[0;34m\u001b[0m\u001b[0;34m\u001b[0m\u001b[0m\n\u001b[1;32m    836\u001b[0m             \u001b[0;32mreturn\u001b[0m \u001b[0mclass_probs\u001b[0m\u001b[0;34m\u001b[0m\u001b[0;34m\u001b[0m\u001b[0m\n",
            "\u001b[0;32m/usr/local/lib/python3.6/dist-packages/xgboost/core.py\u001b[0m in \u001b[0;36mpredict\u001b[0;34m(self, data, output_margin, ntree_limit, pred_leaf, pred_contribs, approx_contribs, pred_interactions, validate_features)\u001b[0m\n\u001b[1;32m   1282\u001b[0m \u001b[0;34m\u001b[0m\u001b[0m\n\u001b[1;32m   1283\u001b[0m         \u001b[0;32mif\u001b[0m \u001b[0mvalidate_features\u001b[0m\u001b[0;34m:\u001b[0m\u001b[0;34m\u001b[0m\u001b[0;34m\u001b[0m\u001b[0m\n\u001b[0;32m-> 1284\u001b[0;31m             \u001b[0mself\u001b[0m\u001b[0;34m.\u001b[0m\u001b[0m_validate_features\u001b[0m\u001b[0;34m(\u001b[0m\u001b[0mdata\u001b[0m\u001b[0;34m)\u001b[0m\u001b[0;34m\u001b[0m\u001b[0;34m\u001b[0m\u001b[0m\n\u001b[0m\u001b[1;32m   1285\u001b[0m \u001b[0;34m\u001b[0m\u001b[0m\n\u001b[1;32m   1286\u001b[0m         \u001b[0mlength\u001b[0m \u001b[0;34m=\u001b[0m \u001b[0mc_bst_ulong\u001b[0m\u001b[0;34m(\u001b[0m\u001b[0;34m)\u001b[0m\u001b[0;34m\u001b[0m\u001b[0;34m\u001b[0m\u001b[0m\n",
            "\u001b[0;32m/usr/local/lib/python3.6/dist-packages/xgboost/core.py\u001b[0m in \u001b[0;36m_validate_features\u001b[0;34m(self, data)\u001b[0m\n\u001b[1;32m   1688\u001b[0m \u001b[0;34m\u001b[0m\u001b[0m\n\u001b[1;32m   1689\u001b[0m                 raise ValueError(msg.format(self.feature_names,\n\u001b[0;32m-> 1690\u001b[0;31m                                             data.feature_names))\n\u001b[0m\u001b[1;32m   1691\u001b[0m \u001b[0;34m\u001b[0m\u001b[0m\n\u001b[1;32m   1692\u001b[0m     \u001b[0;32mdef\u001b[0m \u001b[0mget_split_value_histogram\u001b[0m\u001b[0;34m(\u001b[0m\u001b[0mself\u001b[0m\u001b[0;34m,\u001b[0m \u001b[0mfeature\u001b[0m\u001b[0;34m,\u001b[0m \u001b[0mfmap\u001b[0m\u001b[0;34m=\u001b[0m\u001b[0;34m''\u001b[0m\u001b[0;34m,\u001b[0m \u001b[0mbins\u001b[0m\u001b[0;34m=\u001b[0m\u001b[0;32mNone\u001b[0m\u001b[0;34m,\u001b[0m \u001b[0mas_pandas\u001b[0m\u001b[0;34m=\u001b[0m\u001b[0;32mTrue\u001b[0m\u001b[0;34m)\u001b[0m\u001b[0;34m:\u001b[0m\u001b[0;34m\u001b[0m\u001b[0;34m\u001b[0m\u001b[0m\n",
            "\u001b[0;31mValueError\u001b[0m: feature_names mismatch: ['f0', 'f1', 'f2', 'f3', 'f4', 'f5', 'f6', 'f7', 'f8', 'f9'] ['Gender', 'Age', 'Driving_License', 'Region_Code', 'Previously_Insured', 'Vehicle_Age', 'Vehicle_Damage', 'Annual_Premium', 'Policy_Sales_Channel', 'Vintage']\nexpected f2, f4, f7, f9, f5, f6, f8, f1, f3, f0 in input data\ntraining data did not have the following fields: Previously_Insured, Vintage, Region_Code, Vehicle_Age, Vehicle_Damage, Driving_License, Gender, Policy_Sales_Channel, Age, Annual_Premium"
          ]
        }
      ]
    },
    {
      "cell_type": "code",
      "metadata": {
        "id": "_Y1WdwpN9VuN",
        "outputId": "d1450846-21f9-4b9f-b386-c3878a29b20c",
        "colab": {
          "base_uri": "https://localhost:8080/",
          "height": 34
        }
      },
      "source": [
        "np.mean(errxgb,0)"
      ],
      "execution_count": null,
      "outputs": [
        {
          "output_type": "execute_result",
          "data": {
            "text/plain": [
              "0.8581976002449151"
            ]
          },
          "metadata": {
            "tags": []
          },
          "execution_count": 18
        }
      ]
    },
    {
      "cell_type": "code",
      "metadata": {
        "id": "srN2K2e2G5ej",
        "outputId": "24eeab6f-aebf-4960-af71-ddd6c4f6f0e7",
        "colab": {
          "base_uri": "https://localhost:8080/",
          "height": 34
        }
      },
      "source": [
        "(np.mean(errxgb, 0) + np.mean(err, 0))/2"
      ],
      "execution_count": null,
      "outputs": [
        {
          "output_type": "execute_result",
          "data": {
            "text/plain": [
              "0.8583584254865178"
            ]
          },
          "metadata": {
            "tags": []
          },
          "execution_count": 17
        }
      ]
    },
    {
      "cell_type": "code",
      "metadata": {
        "id": "bQDpDt2iH-Sk",
        "outputId": "c18c495e-6a21-4dd2-b421-fc89d663ff2b",
        "colab": {
          "base_uri": "https://localhost:8080/"
        }
      },
      "source": [
        "model.predict_proba(X_test)[:,1]"
      ],
      "execution_count": null,
      "outputs": [
        {
          "output_type": "execute_result",
          "data": {
            "text/plain": [
              "array([3.75774852e-05, 3.41005749e-01, 2.64412789e-01, ...,\n",
              "       1.23818869e-07, 5.20995700e-06, 1.29332069e-03])"
            ]
          },
          "metadata": {
            "tags": []
          },
          "execution_count": 143
        }
      ]
    },
    {
      "cell_type": "code",
      "metadata": {
        "id": "M186yXf1G75n",
        "outputId": "47f4c5a3-f1af-4209-ac0d-5973766cab69",
        "colab": {
          "base_uri": "https://localhost:8080/",
          "height": 204
        }
      },
      "source": [
        "submission = pd.DataFrame()\n",
        "submission['id'] = combine[combine['Response'].isnull()==True]['id']\n",
        "submission['Response'] = model.predict_proba(X_test)[:,1]\n",
        "submission.to_csv('check_02.csv', index=False, header=True)\n",
        "submission.head()"
      ],
      "execution_count": null,
      "outputs": [
        {
          "output_type": "execute_result",
          "data": {
            "text/html": [
              "<div>\n",
              "<style scoped>\n",
              "    .dataframe tbody tr th:only-of-type {\n",
              "        vertical-align: middle;\n",
              "    }\n",
              "\n",
              "    .dataframe tbody tr th {\n",
              "        vertical-align: top;\n",
              "    }\n",
              "\n",
              "    .dataframe thead th {\n",
              "        text-align: right;\n",
              "    }\n",
              "</style>\n",
              "<table border=\"1\" class=\"dataframe\">\n",
              "  <thead>\n",
              "    <tr style=\"text-align: right;\">\n",
              "      <th></th>\n",
              "      <th>id</th>\n",
              "      <th>Response</th>\n",
              "    </tr>\n",
              "  </thead>\n",
              "  <tbody>\n",
              "    <tr>\n",
              "      <th>0</th>\n",
              "      <td>381110</td>\n",
              "      <td>3.757749e-05</td>\n",
              "    </tr>\n",
              "    <tr>\n",
              "      <th>1</th>\n",
              "      <td>381111</td>\n",
              "      <td>3.410057e-01</td>\n",
              "    </tr>\n",
              "    <tr>\n",
              "      <th>2</th>\n",
              "      <td>381112</td>\n",
              "      <td>2.644128e-01</td>\n",
              "    </tr>\n",
              "    <tr>\n",
              "      <th>3</th>\n",
              "      <td>381113</td>\n",
              "      <td>3.213174e-07</td>\n",
              "    </tr>\n",
              "    <tr>\n",
              "      <th>4</th>\n",
              "      <td>381114</td>\n",
              "      <td>1.231867e-07</td>\n",
              "    </tr>\n",
              "  </tbody>\n",
              "</table>\n",
              "</div>"
            ],
            "text/plain": [
              "       id      Response\n",
              "0  381110  3.757749e-05\n",
              "1  381111  3.410057e-01\n",
              "2  381112  2.644128e-01\n",
              "3  381113  3.213174e-07\n",
              "4  381114  1.231867e-07"
            ]
          },
          "metadata": {
            "tags": []
          },
          "execution_count": 144
        }
      ]
    }
  ]
}