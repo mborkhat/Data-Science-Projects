{
  "nbformat": 4,
  "nbformat_minor": 0,
  "metadata": {
    "colab": {
      "name": "HR Analytics.ipynb",
      "provenance": [],
      "collapsed_sections": [],
      "authorship_tag": "ABX9TyPRQkPs0yA6GSrh7BYtarB7",
      "include_colab_link": true
    },
    "kernelspec": {
      "name": "python3",
      "display_name": "Python 3"
    },
    "accelerator": "GPU"
  },
  "cells": [
    {
      "cell_type": "markdown",
      "metadata": {
        "id": "view-in-github",
        "colab_type": "text"
      },
      "source": [
        "<a href=\"https://colab.research.google.com/github/mborkhat/Data-Science-Projects/blob/master/HR%20Analytics/HR_Analytics.ipynb\" target=\"_parent\"><img src=\"https://colab.research.google.com/assets/colab-badge.svg\" alt=\"Open In Colab\"/></a>"
      ]
    },
    {
      "cell_type": "code",
      "metadata": {
        "id": "KuUQfk5U7PH_",
        "colab_type": "code",
        "colab": {}
      },
      "source": [
        "#importing necesaary libraries\n",
        "import numpy as np\n",
        "import pandas as pd\n",
        "import matplotlib.pyplot as plt\n",
        "import seaborn as sns\n",
        "from sklearn.metrics import f1_score\n",
        "from sklearn.model_selection import train_test_split"
      ],
      "execution_count": 51,
      "outputs": []
    },
    {
      "cell_type": "code",
      "metadata": {
        "id": "R3nyD1wr7gqi",
        "colab_type": "code",
        "colab": {}
      },
      "source": [
        "#Reading DATA\n",
        "train=pd.read_csv(\"/content/train.csv\")\n",
        "test=pd.read_csv(\"/content/test.csv\")\n",
        "submission=pd.DataFrame()\n",
        "submission['employee_id']=test['employee_id']"
      ],
      "execution_count": 52,
      "outputs": []
    },
    {
      "cell_type": "code",
      "metadata": {
        "id": "Dp9bBpD67pNQ",
        "colab_type": "code",
        "colab": {
          "base_uri": "https://localhost:8080/",
          "height": 34
        },
        "outputId": "7cdc618f-6f6e-4d35-e923-a6e2c705e587"
      },
      "source": [
        "train.shape"
      ],
      "execution_count": 53,
      "outputs": [
        {
          "output_type": "execute_result",
          "data": {
            "text/plain": [
              "(54808, 14)"
            ]
          },
          "metadata": {
            "tags": []
          },
          "execution_count": 53
        }
      ]
    },
    {
      "cell_type": "code",
      "metadata": {
        "id": "ehEED6uK7rlW",
        "colab_type": "code",
        "colab": {
          "base_uri": "https://localhost:8080/",
          "height": 34
        },
        "outputId": "84523007-2428-4455-cfd2-26bfb4c72986"
      },
      "source": [
        "test.shape"
      ],
      "execution_count": 54,
      "outputs": [
        {
          "output_type": "execute_result",
          "data": {
            "text/plain": [
              "(23490, 13)"
            ]
          },
          "metadata": {
            "tags": []
          },
          "execution_count": 54
        }
      ]
    },
    {
      "cell_type": "code",
      "metadata": {
        "id": "IfmyJuAH7siX",
        "colab_type": "code",
        "colab": {}
      },
      "source": [
        "train[\"previous_year_rating\"]=train[\"previous_year_rating\"].fillna((train[\"previous_year_rating\"].mean()))\n",
        "test[\"previous_year_rating\"]=test[\"previous_year_rating\"].fillna((test[\"previous_year_rating\"].mean()))"
      ],
      "execution_count": 55,
      "outputs": []
    },
    {
      "cell_type": "code",
      "metadata": {
        "id": "fD7JioWC7t4c",
        "colab_type": "code",
        "colab": {}
      },
      "source": [
        "train[\"previous_year_rating\"]= train[\"previous_year_rating\"].astype(int)\n",
        "test[\"previous_year_rating\"]= test[\"previous_year_rating\"].astype(int)"
      ],
      "execution_count": 56,
      "outputs": []
    },
    {
      "cell_type": "code",
      "metadata": {
        "id": "UXZG0cIl7vnS",
        "colab_type": "code",
        "colab": {
          "base_uri": "https://localhost:8080/",
          "height": 283
        },
        "outputId": "0e438061-fb64-44d2-c4b2-b03d25dc1837"
      },
      "source": [
        "train.dtypes"
      ],
      "execution_count": 57,
      "outputs": [
        {
          "output_type": "execute_result",
          "data": {
            "text/plain": [
              "employee_id              int64\n",
              "department              object\n",
              "region                  object\n",
              "education               object\n",
              "gender                  object\n",
              "recruitment_channel     object\n",
              "no_of_trainings          int64\n",
              "age                      int64\n",
              "previous_year_rating     int64\n",
              "length_of_service        int64\n",
              "KPIs_met >80%            int64\n",
              "awards_won?              int64\n",
              "avg_training_score       int64\n",
              "is_promoted              int64\n",
              "dtype: object"
            ]
          },
          "metadata": {
            "tags": []
          },
          "execution_count": 57
        }
      ]
    },
    {
      "cell_type": "code",
      "metadata": {
        "id": "fpjbKSKQ7xKK",
        "colab_type": "code",
        "colab": {}
      },
      "source": [
        "#DUmmies for object datatype\n",
        "X=train.select_dtypes(include=[object])\n",
        "columns=X.columns\n",
        "X=pd.get_dummies(X)\n",
        "train=pd.concat([train.drop(columns,axis=1),X],axis=1)"
      ],
      "execution_count": 58,
      "outputs": []
    },
    {
      "cell_type": "code",
      "metadata": {
        "id": "L_GGRTSD7zIu",
        "colab_type": "code",
        "colab": {}
      },
      "source": [
        "Y=test.select_dtypes(include=[object])\n",
        "columns=Y.columns\n",
        "Y=pd.get_dummies(Y)\n",
        "test=pd.concat([test.drop(columns,axis=1),Y],axis=1)"
      ],
      "execution_count": 59,
      "outputs": []
    },
    {
      "cell_type": "code",
      "metadata": {
        "id": "LfGvy7QZ70Qy",
        "colab_type": "code",
        "colab": {}
      },
      "source": [
        "#X and y i.e. Independent and dependent variable\n",
        "X=train.drop('is_promoted',axis=1).values\n",
        "y=train['is_promoted'].values"
      ],
      "execution_count": 32,
      "outputs": []
    },
    {
      "cell_type": "code",
      "metadata": {
        "id": "cqjJZHWa71QV",
        "colab_type": "code",
        "colab": {}
      },
      "source": [
        "#SPliting the dataset into train and test\n",
        "from sklearn.model_selection import train_test_split\n",
        "X_train, X_test, y_train, y_test = train_test_split (X, y, test_size = 0.20)"
      ],
      "execution_count": 33,
      "outputs": []
    },
    {
      "cell_type": "code",
      "metadata": {
        "id": "zz41TyyP8bTa",
        "colab_type": "code",
        "colab": {
          "base_uri": "https://localhost:8080/",
          "height": 105
        },
        "outputId": "6e2a247a-50a4-4c81-c903-642d2071ebf1"
      },
      "source": [
        "#Logistic Regression model\n",
        "from sklearn.linear_model import LogisticRegression\n",
        "logreg = LogisticRegression()\n",
        "logreg.fit(X_train, y_train)\n",
        "\n"
      ],
      "execution_count": 34,
      "outputs": [
        {
          "output_type": "execute_result",
          "data": {
            "text/plain": [
              "LogisticRegression(C=1.0, class_weight=None, dual=False, fit_intercept=True,\n",
              "                   intercept_scaling=1, l1_ratio=None, max_iter=100,\n",
              "                   multi_class='auto', n_jobs=None, penalty='l2',\n",
              "                   random_state=None, solver='lbfgs', tol=0.0001, verbose=0,\n",
              "                   warm_start=False)"
            ]
          },
          "metadata": {
            "tags": []
          },
          "execution_count": 34
        }
      ]
    },
    {
      "cell_type": "code",
      "metadata": {
        "id": "0M9jazlW8cSK",
        "colab_type": "code",
        "colab": {
          "base_uri": "https://localhost:8080/",
          "height": 34
        },
        "outputId": "dd83143e-c27e-4782-ca1f-248bacde4fcc"
      },
      "source": [
        "y_pred = logreg.predict(X_test)\n",
        "y_pred.shape"
      ],
      "execution_count": 35,
      "outputs": [
        {
          "output_type": "execute_result",
          "data": {
            "text/plain": [
              "(10962,)"
            ]
          },
          "metadata": {
            "tags": []
          },
          "execution_count": 35
        }
      ]
    },
    {
      "cell_type": "code",
      "metadata": {
        "id": "-F5zPdJ08dZr",
        "colab_type": "code",
        "colab": {
          "base_uri": "https://localhost:8080/",
          "height": 34
        },
        "outputId": "9bb76838-0726-487d-8d46-985d0b95130f"
      },
      "source": [
        "print('Accuracy of logistic regression classifier on test set: {:.2f}'.format(logreg.score(X_test, y_test)))"
      ],
      "execution_count": 36,
      "outputs": [
        {
          "output_type": "stream",
          "text": [
            "Accuracy of logistic regression classifier on test set: 0.92\n"
          ],
          "name": "stdout"
        }
      ]
    },
    {
      "cell_type": "code",
      "metadata": {
        "id": "7oWb1U-28ebg",
        "colab_type": "code",
        "colab": {
          "base_uri": "https://localhost:8080/",
          "height": 34
        },
        "outputId": "8ef9cd91-9e27-4066-ae66-3deb481b15c9"
      },
      "source": [
        "X=test.iloc[:,:]\n",
        "X.shape"
      ],
      "execution_count": 37,
      "outputs": [
        {
          "output_type": "execute_result",
          "data": {
            "text/plain": [
              "(23490, 59)"
            ]
          },
          "metadata": {
            "tags": []
          },
          "execution_count": 37
        }
      ]
    },
    {
      "cell_type": "code",
      "metadata": {
        "id": "bUcekEiB8fd_",
        "colab_type": "code",
        "colab": {
          "base_uri": "https://localhost:8080/",
          "height": 34
        },
        "outputId": "daa2f7d1-680b-4cd9-94ee-2a5ff27241e8"
      },
      "source": [
        "y_pred = logreg.predict(X)\n",
        "y_pred.shape"
      ],
      "execution_count": 38,
      "outputs": [
        {
          "output_type": "execute_result",
          "data": {
            "text/plain": [
              "(23490,)"
            ]
          },
          "metadata": {
            "tags": []
          },
          "execution_count": 38
        }
      ]
    },
    {
      "cell_type": "code",
      "metadata": {
        "id": "lh1pS8V28gbh",
        "colab_type": "code",
        "colab": {}
      },
      "source": [
        "submission['is_promoted']=y_pred\n",
        "submission.to_csv('Mayur_Log.csv',index=False,header=True)"
      ],
      "execution_count": 39,
      "outputs": []
    },
    {
      "cell_type": "code",
      "metadata": {
        "id": "1ti3xQiL8iSS",
        "colab_type": "code",
        "colab": {
          "base_uri": "https://localhost:8080/",
          "height": 70
        },
        "outputId": "1270e635-cd87-41d7-a20a-b5d28ece3c38"
      },
      "source": [
        "# Building RODGE LASSO\n",
        "from sklearn.linear_model import Lasso\n",
        "\n",
        "#Initializing the Lasso Regressor with Normalization Factor as True\n",
        "lasso_reg = Lasso(normalize=False)\n",
        "\n",
        "#Fitting the Training data to the Lasso regressor\n",
        "lasso_reg.fit(X_train,y_train)"
      ],
      "execution_count": 40,
      "outputs": [
        {
          "output_type": "execute_result",
          "data": {
            "text/plain": [
              "Lasso(alpha=1.0, copy_X=True, fit_intercept=True, max_iter=1000,\n",
              "      normalize=False, positive=False, precompute=False, random_state=None,\n",
              "      selection='cyclic', tol=0.0001, warm_start=False)"
            ]
          },
          "metadata": {
            "tags": []
          },
          "execution_count": 40
        }
      ]
    },
    {
      "cell_type": "code",
      "metadata": {
        "id": "2CYpJoRq8kVo",
        "colab_type": "code",
        "colab": {
          "base_uri": "https://localhost:8080/",
          "height": 34
        },
        "outputId": "76e8a7ca-d3d9-401c-f686-2ad119dca37c"
      },
      "source": [
        "lasso_reg.score(X_train,y_train)"
      ],
      "execution_count": 41,
      "outputs": [
        {
          "output_type": "execute_result",
          "data": {
            "text/plain": [
              "1.4311817188028544e-06"
            ]
          },
          "metadata": {
            "tags": []
          },
          "execution_count": 41
        }
      ]
    },
    {
      "cell_type": "code",
      "metadata": {
        "id": "4AZoQCb58lWs",
        "colab_type": "code",
        "colab": {}
      },
      "source": [
        "X=test.iloc[:,:]"
      ],
      "execution_count": 42,
      "outputs": []
    },
    {
      "cell_type": "code",
      "metadata": {
        "id": "CC8f0P4s8mhu",
        "colab_type": "code",
        "colab": {
          "base_uri": "https://localhost:8080/",
          "height": 52
        },
        "outputId": "5845f2e9-356f-42bf-9836-2736c7f8e20e"
      },
      "source": [
        "y_pred_las =lasso_reg.predict(X)\n",
        "y_pred_las"
      ],
      "execution_count": 43,
      "outputs": [
        {
          "output_type": "execute_result",
          "data": {
            "text/plain": [
              "array([0.08554128, 0.08639511, 0.08636685, ..., 0.08601799, 0.08544332,\n",
              "       0.08550553])"
            ]
          },
          "metadata": {
            "tags": []
          },
          "execution_count": 43
        }
      ]
    },
    {
      "cell_type": "code",
      "metadata": {
        "id": "CQMF6FNf8qza",
        "colab_type": "code",
        "colab": {
          "base_uri": "https://localhost:8080/",
          "height": 34
        },
        "outputId": "91248ead-e7b0-4613-d9f5-581d88a71ca3"
      },
      "source": [
        "from sklearn.ensemble import RandomForestClassifier\n",
        "classifier = RandomForestClassifier(max_depth=2, random_state=0)\n",
        "classifier.fit(X_train, y_train)\n",
        "y_pred = classifier.predict(X_test)\n",
        "print('Accuracy of RF regression classifier on test set: {:.2f}'.format(classifier.score(X_test, y_test)))"
      ],
      "execution_count": 46,
      "outputs": [
        {
          "output_type": "stream",
          "text": [
            "Accuracy of RF regression classifier on test set: 0.92\n"
          ],
          "name": "stdout"
        }
      ]
    },
    {
      "cell_type": "code",
      "metadata": {
        "id": "gjY04sKL80s_",
        "colab_type": "code",
        "colab": {
          "base_uri": "https://localhost:8080/",
          "height": 34
        },
        "outputId": "c3db78a5-3c6a-436b-8576-9165f182343c"
      },
      "source": [
        "X=test.iloc[:,:]\n",
        "y_pred = classifier.predict(X)\n",
        "y_pred.shape"
      ],
      "execution_count": 47,
      "outputs": [
        {
          "output_type": "execute_result",
          "data": {
            "text/plain": [
              "(23490,)"
            ]
          },
          "metadata": {
            "tags": []
          },
          "execution_count": 47
        }
      ]
    },
    {
      "cell_type": "code",
      "metadata": {
        "id": "JyJNdmZl811s",
        "colab_type": "code",
        "colab": {}
      },
      "source": [
        "submission['is_promoted']=y_pred\n",
        "submission.to_csv('Mayur_RF.csv',index=False,header=True)"
      ],
      "execution_count": 48,
      "outputs": []
    },
    {
      "cell_type": "code",
      "metadata": {
        "id": "VHzzJwWR9Azd",
        "colab_type": "code",
        "colab": {}
      },
      "source": [
        ""
      ],
      "execution_count": null,
      "outputs": []
    }
  ]
}